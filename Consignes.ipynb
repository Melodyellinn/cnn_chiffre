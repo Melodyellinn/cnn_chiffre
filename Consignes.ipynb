{
 "cells": [
  {
   "cell_type": "markdown",
   "id": "4afbb642",
   "metadata": {},
   "source": [
    "# Créez un outil de visualisation pour un réseau neuronal convolutif"
   ]
  },
  {
   "cell_type": "markdown",
   "id": "80778feb",
   "metadata": {},
   "source": [
    "Votre objectif dans ce projet est de créer un outil de visualisation pour montrer comment un réseau de neurones convolutif  peut détecter et catégoriser des lettres (A-Z)"
   ]
  },
  {
   "cell_type": "markdown",
   "id": "9e55625c",
   "metadata": {},
   "source": [
    "**Contexte du projet**  \n",
    "Vous travaillez dans une startup edtech qui offre des services de vulgarisation de l'IA. Votre client souhaite avoir un outil de démo pour expliquer comment ça fonctionne un réseau de neurones.  \n",
    "\n",
    "​\n",
    "\n",
    "Votre premier objectif est de créer un modèle de deep learning pour classifier des chiffres. Ensuite, vous devez développer l'interface utilisateur (avec streamlit) qui vous permet de déssiner un chiffre (ou choisir aléatoirement un numéro d'un dataset d'images) et de détecter s'il correspond à une chiffre entre 0 & 9.  \n",
    "\n",
    "​\n",
    "\n",
    "source image : https://www.mdpi.com/2076-3417/9/15/3169  \n",
    "\n",
    "​\n",
    "\n",
    "Pour l'interface utilisateur, votre première version streamlit doit être capable de montrer une image aléatoire du dataset test. Ensuite, grâce à un bouton \"predict\", votre modèle peut prédire le bon nombre et afficher le résultat dans l'interface. À la fin, l'interface doit vous permettre avec un bouton de valider si votre modèle a correctement classé l'image ou non.  \n",
    "\n",
    "​\n",
    "\n",
    "Dans un deuxièmet temps, vous pouvez faire évoluer votre interface comme un jeu. Dans cette deuxième version, l'interface doit vous permettre de dessiner un nombre et le transformer en image. Cette image va ensuite être utilisée par le modèle pour prédire le bon nombre et afficher le résultat. L'idée derrière est de donner 10 opportunités à votre modèle de détecter le chiffre dessiné et donner des stats à la fin par rapport à sa performance de prédiction.  \n",
    "\n",
    "​\n",
    "\n",
    "Vous pouvez vous insprer de cette interface pour faire évoluer votre démo :  \n",
    "https://www.cs.ryerson.ca/~aharley/vis/conv/flat.html  \n",
    "\n",
    "**Modalités pédagogiques**  \n",
    "Date limite : 3/12  \n",
    "\n",
    "​\n",
    "\n",
    "Pensez bien à créer un fichier .gitignore pour éviter de stocker les données dans le repository.  \n",
    "\n",
    "**Equipes P13 et P15:**  \n",
    "\n",
    "Ambre / Salma  \n",
    "Wissem / Marianne  \n",
    "Abdel / Adil / Youcef  \n",
    "Orkun / Eden / Nidal  \n",
    "Farah / Nasreddine  \n",
    "Lamine / Véronique / Imen  \n",
    "Toska / Melody / Matthis  \n",
    "Daline / Amani / Clément  \n",
    "Guillaume / Zohra / Cédric  \n",
    "Karine / Cyril / Jonathan  \n",
    "Nicolas / Théo  \n",
    "\n",
    "**Critères de performance**  \n",
    "performance des modèles de prédiction  \n",
    "capacité à apporter une solution dans le temps imparti  \n",
    "qualité du synthèse du travail  \n",
    "Modalités d'évaluation  \n",
    "Auto-évaluation avec charte de réflexivité  \n",
    "Présentation orale - 10 min (Q/A inclus)  \n",
    "Pré-planning du projet  \n",
    "Code review via github  \n",
    "Vous devez commencer avec des apprenants de la P13 et continuer à travailler en individuel ou en équipe, à vous de voir.  \n",
    "\n",
    "**Livrables**  \n",
    "- créer un repo git et un espace sur github/gitlab pour le projet  \n",
    "- présenter un planning de travail  \n",
    "- présenter la procédure suivi pour trouver un modèle adapté (notebook_model)  \n",
    "- créer un modèle d'IA entraîné et adapté au problème (format pickle ou h5)  \n",
    "- créer et présenter l'interface utilisateur  \n",
    "- faire une présentation qui explique votre démarche et les résultats obtenus (10 min maximum avec la démo inclus )  "
   ]
  },
  {
   "cell_type": "code",
   "execution_count": null,
   "id": "96b0b5d4",
   "metadata": {},
   "outputs": [],
   "source": []
  },
  {
   "cell_type": "code",
   "execution_count": null,
   "id": "9b89152c",
   "metadata": {},
   "outputs": [],
   "source": []
  },
  {
   "cell_type": "code",
   "execution_count": null,
   "id": "f016dd24",
   "metadata": {},
   "outputs": [],
   "source": []
  },
  {
   "cell_type": "code",
   "execution_count": null,
   "id": "e4d04bb3",
   "metadata": {},
   "outputs": [],
   "source": []
  },
  {
   "cell_type": "code",
   "execution_count": null,
   "id": "18eca7ca",
   "metadata": {},
   "outputs": [],
   "source": []
  }
 ],
 "metadata": {
  "kernelspec": {
   "display_name": "Python 3",
   "language": "python",
   "name": "python3"
  },
  "language_info": {
   "codemirror_mode": {
    "name": "ipython",
    "version": 3
   },
   "file_extension": ".py",
   "mimetype": "text/x-python",
   "name": "python",
   "nbconvert_exporter": "python",
   "pygments_lexer": "ipython3",
   "version": "3.8.8"
  },
  "toc": {
   "base_numbering": 1,
   "nav_menu": {},
   "number_sections": true,
   "sideBar": true,
   "skip_h1_title": false,
   "title_cell": "Table of Contents",
   "title_sidebar": "Contents",
   "toc_cell": false,
   "toc_position": {},
   "toc_section_display": true,
   "toc_window_display": false
  },
  "varInspector": {
   "cols": {
    "lenName": 16,
    "lenType": 16,
    "lenVar": 40
   },
   "kernels_config": {
    "python": {
     "delete_cmd_postfix": "",
     "delete_cmd_prefix": "del ",
     "library": "var_list.py",
     "varRefreshCmd": "print(var_dic_list())"
    },
    "r": {
     "delete_cmd_postfix": ") ",
     "delete_cmd_prefix": "rm(",
     "library": "var_list.r",
     "varRefreshCmd": "cat(var_dic_list()) "
    }
   },
   "types_to_exclude": [
    "module",
    "function",
    "builtin_function_or_method",
    "instance",
    "_Feature"
   ],
   "window_display": false
  }
 },
 "nbformat": 4,
 "nbformat_minor": 5
}
