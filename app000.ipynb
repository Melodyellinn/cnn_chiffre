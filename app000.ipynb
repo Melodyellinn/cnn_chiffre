{
 "cells": [
  {
   "cell_type": "code",
   "execution_count": 12,
   "id": "cd38845c",
   "metadata": {
    "scrolled": true
   },
   "outputs": [
    {
     "name": "stderr",
     "output_type": "stream",
     "text": [
      "2021-12-02 10:59:03.556 \n",
      "  \u001b[33m\u001b[1mWarning:\u001b[0m to view this Streamlit app on a browser, run it with the following\n",
      "  command:\n",
      "\n",
      "    streamlit run C:\\Users\\Simplon\\anaconda3\\lib\\site-packages\\ipykernel_launcher.py [ARGUMENTS]\n"
     ]
    }
   ],
   "source": [
    "import os\n",
    "import numpy as np\n",
    "import cv2\n",
    "from tensorflow.keras.models import load_model\n",
    "import streamlit as st\n",
    "from streamlit_drawable_canvas import st_canvas\n",
    "\n",
    "MODEL_DIR = os.path.join(os.path.dirname('__file__'), 'model.h5')\n",
    "if not os.path.isdir(MODEL_DIR):\n",
    "    os.system('runipy train.ipynb')\n",
    "\n",
    "model = load_model('model.h5')\n",
    "# st.markdown('<style>body{color: White; background-color: DarkSlateGrey}</style>', unsafe_allow_html=True)\n",
    "\n",
    "st.title('My Digit Recognizer')\n",
    "st.markdown('''\n",
    "Try to write a digit!\n",
    "''')\n",
    "\n",
    "# data = np.random.rand(28,28)\n",
    "# img = cv2.resize(data, (256, 256), interpolation=cv2.INTER_NEAREST)\n",
    "\n",
    "SIZE = 192\n",
    "mode = st.checkbox(\"Draw (or Delete)?\", True)\n",
    "canvas_result = st_canvas(\n",
    "    fill_color='#000000',\n",
    "    stroke_width=20,\n",
    "    stroke_color='#FFFFFF',\n",
    "    background_color='#000000',\n",
    "    width=SIZE,\n",
    "    height=SIZE,\n",
    "    drawing_mode=\"freedraw\" if mode else \"transform\",\n",
    "    key='canvas')\n",
    "\n",
    "if canvas_result.image_data is not None:\n",
    "    img = cv2.resize(canvas_result.image_data.astype('uint8'), (28, 28))\n",
    "    rescaled = cv2.resize(img, (SIZE, SIZE), interpolation=cv2.INTER_NEAREST)\n",
    "    st.write('Model Input')\n",
    "    st.image(rescaled)\n",
    "\n",
    "if st.button('Predict'):\n",
    "    test_x = cv2.cvtColor(img, cv2.COLOR_BGR2GRAY)\n",
    "    val = model.predict(test_x.reshape(1, 28, 28))\n",
    "    st.write(f'result: {np.argmax(val[0])}')\n",
    "    st.bar_chart(val[0])"
   ]
  },
  {
   "cell_type": "code",
   "execution_count": null,
   "id": "8960e139",
   "metadata": {},
   "outputs": [],
   "source": []
  }
 ],
 "metadata": {
  "kernelspec": {
   "display_name": "Python 3",
   "language": "python",
   "name": "python3"
  },
  "language_info": {
   "codemirror_mode": {
    "name": "ipython",
    "version": 3
   },
   "file_extension": ".py",
   "mimetype": "text/x-python",
   "name": "python",
   "nbconvert_exporter": "python",
   "pygments_lexer": "ipython3",
   "version": "3.8.8"
  },
  "toc": {
   "base_numbering": 1,
   "nav_menu": {},
   "number_sections": true,
   "sideBar": true,
   "skip_h1_title": false,
   "title_cell": "Table of Contents",
   "title_sidebar": "Contents",
   "toc_cell": false,
   "toc_position": {},
   "toc_section_display": true,
   "toc_window_display": false
  },
  "varInspector": {
   "cols": {
    "lenName": 16,
    "lenType": 16,
    "lenVar": 40
   },
   "kernels_config": {
    "python": {
     "delete_cmd_postfix": "",
     "delete_cmd_prefix": "del ",
     "library": "var_list.py",
     "varRefreshCmd": "print(var_dic_list())"
    },
    "r": {
     "delete_cmd_postfix": ") ",
     "delete_cmd_prefix": "rm(",
     "library": "var_list.r",
     "varRefreshCmd": "cat(var_dic_list()) "
    }
   },
   "types_to_exclude": [
    "module",
    "function",
    "builtin_function_or_method",
    "instance",
    "_Feature"
   ],
   "window_display": false
  }
 },
 "nbformat": 4,
 "nbformat_minor": 5
}
